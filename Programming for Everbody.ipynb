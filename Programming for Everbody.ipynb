{
 "cells": [
  {
   "cell_type": "markdown",
   "metadata": {},
   "source": [
    "### Chapter 1 - Introduction"
   ]
  },
  {
   "cell_type": "markdown",
   "metadata": {},
   "source": [
    "This chapter introduces the motivation behind why we learn programming, hence I will directly go to chapter 2"
   ]
  },
  {
   "cell_type": "markdown",
   "metadata": {},
   "source": [
    "### Chapter 2 - Variables, Expressions, and Statements"
   ]
  },
  {
   "cell_type": "markdown",
   "metadata": {},
   "source": [
    "Exercise 2.1: Write a program that uses input to prompt a user for their name and then welcomes them."
   ]
  },
  {
   "cell_type": "code",
   "execution_count": 9,
   "metadata": {},
   "outputs": [
    {
     "name": "stdout",
     "output_type": "stream",
     "text": [
      "Enter Your Name: Chuck\n",
      "Hello Chuck\n"
     ]
    }
   ],
   "source": [
    "name = input('Enter Your Name: ')\n",
    "print('Hello {}'.format(name))"
   ]
  },
  {
   "cell_type": "markdown",
   "metadata": {},
   "source": [
    "Exercise 2.2: Write a program to prompt the user for hours and rate per hour to compute gross pay."
   ]
  },
  {
   "cell_type": "code",
   "execution_count": 10,
   "metadata": {},
   "outputs": [
    {
     "name": "stdout",
     "output_type": "stream",
     "text": [
      "Enter Hours: 35\n",
      "Enter Rate: 2.75\n",
      "Pay: 96.25\n"
     ]
    }
   ],
   "source": [
    "hours = float(input('Enter Hours: '))\n",
    "rate = float(input('Enter Rate: '))\n",
    "print('Pay: {}'.format(hours*rate))"
   ]
  },
  {
   "cell_type": "markdown",
   "metadata": {},
   "source": [
    "Exercise 2.3: Assume that we execute the following assignment statements:\n",
    "        \n",
    "                width = 17\n",
    "                height = 12.0\n",
    "                \n",
    "\n",
    "For each of the following expressions, write the value of the expression and the type (of the value of the expression).\n",
    "\n",
    "                width//2\n",
    "\n",
    "                width/2.0\n",
    "\n",
    "                height/3\n",
    "\n",
    "                1 + 2 * 5\n",
    "\n",
    "Use the Python interpreter to check your answers."
   ]
  },
  {
   "cell_type": "code",
   "execution_count": 15,
   "metadata": {
    "scrolled": true
   },
   "outputs": [
    {
     "name": "stdout",
     "output_type": "stream",
     "text": [
      "width//2 = 8 and its type <class 'int'>\n",
      "width/2.0 = 8.5 and its type <class 'float'>\n",
      "height/3 = 4.0 and its type <class 'float'>\n",
      "1 + 2 * 5 = 11 and its type <class 'int'>\n"
     ]
    }
   ],
   "source": [
    "width = 17\n",
    "height = 12.0\n",
    "\n",
    "print('width//2 = {} and its type {}'.format(width//2, type(width//2)))\n",
    "print('width/2.0 = {} and its type {}'.format(width/2.0, type(width/2.0)))\n",
    "print('height/3 = {} and its type {}'.format(height/3, type(height/3)))\n",
    "print('1 + 2 * 5 = {} and its type {}'.format(1 + 2 * 5, type(1 + 2 * 5)))"
   ]
  },
  {
   "cell_type": "markdown",
   "metadata": {},
   "source": [
    "Exercise 2.4:\n",
    "    \n",
    "Write a program which prompts the user for a Celsius temperature, convert the temperature to Fahrenheit, and print out the converted temperature"
   ]
  },
  {
   "cell_type": "code",
   "execution_count": 17,
   "metadata": {},
   "outputs": [
    {
     "name": "stdout",
     "output_type": "stream",
     "text": [
      "Celcius Temperature: 1\n",
      "Fahrenheit Temperature: 33.8\n"
     ]
    }
   ],
   "source": [
    "ctemp = float(input('Celcius Temperature: '))\n",
    "print('Fahrenheit Temperature: {}'.format((ctemp*9/5) + 32))"
   ]
  },
  {
   "cell_type": "markdown",
   "metadata": {},
   "source": [
    "### Chapter 3 - Conditional Execution"
   ]
  },
  {
   "cell_type": "markdown",
   "metadata": {},
   "source": [
    "Exercise 3.1: Rewrite your pay computation to give the employee 1.5 times the hourly rate for hours worked above 40 hours."
   ]
  },
  {
   "cell_type": "code",
   "execution_count": 19,
   "metadata": {},
   "outputs": [
    {
     "name": "stdout",
     "output_type": "stream",
     "text": [
      "Enter Hours:45\n",
      "Enter Rate:10\n",
      "Pay: 475.0\n"
     ]
    }
   ],
   "source": [
    "hours = input(\"Enter Hours:\")\n",
    "rate = input(\"Enter Rate:\")\n",
    "fr = float (rate)\n",
    "fh = float (hours)\n",
    "if fh > 40 :\n",
    "    reg = fr * fh\n",
    "    otp = (fh - 40) * (fr * 0.5)\n",
    "    xp = reg + otp\n",
    "else :\n",
    "    xp = fr * fh\n",
    "print (\"Pay:\", xp)"
   ]
  },
  {
   "cell_type": "markdown",
   "metadata": {},
   "source": [
    "Exercise 3.2: \n",
    "\n",
    "Rewrite your pay program using try and except so that your program handles non-numeric input gracefully by printing a message and exiting the program. The following shows two executions of the program:"
   ]
  },
  {
   "cell_type": "code",
   "execution_count": null,
   "metadata": {},
   "outputs": [],
   "source": [
    "h = input(\"Enter Hours:\")\n",
    "r = input(\"Enter Rate:\")\n",
    "try :\n",
    "    fr = float (r)\n",
    "    fh = float (h)\n",
    "except :\n",
    "    print(\"Error, please enter numeric input\")\n",
    "    quit()\n",
    "if fh > 40 :\n",
    "    reg = fr * fh\n",
    "    otp = (fh - 40) * (fr * 0.5)\n",
    "    xp = reg + otp\n",
    "else :\n",
    "    xp = fr * fh\n",
    "print (\"Pay:\", xp)"
   ]
  },
  {
   "cell_type": "markdown",
   "metadata": {},
   "source": [
    "Exercise 3.3: \n",
    "\n",
    "Write a program to prompt for a score between 0.0 and 1.0. If the score is out of range, print an error message. If the score is between 0.0 and 1.0, print a grade using the following table:"
   ]
  },
  {
   "cell_type": "code",
   "execution_count": null,
   "metadata": {},
   "outputs": [],
   "source": [
    "score = input(\"Enter Score: \")\n",
    "\n",
    "try:\n",
    "    score_int = float(score)\n",
    "\n",
    "except:\n",
    "    print (\"Error, please enter numerical input\")\n",
    "    quit()\n",
    "\n",
    "if 0.90 <= score_int <= 1.00:\n",
    "    print (\"A\")\n",
    "elif 0.80 <= score_int < 0.90:\n",
    "    print (\"B\")\n",
    "elif 0.70 <= score_int < 0.80:\n",
    "    print (\"C\")\n",
    "elif 0.60 <= score_int < 0.70:\n",
    "    print (\"D\")\n",
    "elif 0.00 <= score_int < 0.60:\n",
    "    print (\"F\")\n",
    "else:\n",
    "    print (\"Please enter a score between 0.00 and 1.00.\")"
   ]
  },
  {
   "cell_type": "markdown",
   "metadata": {},
   "source": [
    "### Chapter 4 - Functions"
   ]
  },
  {
   "cell_type": "markdown",
   "metadata": {},
   "source": [
    "Exercise 4.3: \n",
    "\n",
    "Rewrite your pay computation with time-and-a-half for overtime and create a function called computepay which takes two parameters (hours and rate)."
   ]
  },
  {
   "cell_type": "code",
   "execution_count": null,
   "metadata": {},
   "outputs": [],
   "source": [
    "def computepay (h, r) \n",
    "    if h > 40 :\n",
    "        pay = (h * r) + ((h - 40) * (r * 0.5))\n",
    "    else :\n",
    "        pay = h * r\n",
    "    return pay\n",
    "\n",
    "try :\n",
    "    h = input(\"Enter Hours:\")\n",
    "    h = float (h)\n",
    "    r = input(\"Enter Rate:\")\n",
    "    r = float (r)\n",
    "except :\n",
    "    print(\"Enter numeric input, please!\")\n",
    "    quit()\n",
    "\n",
    "print (\"Pay:\", computepay(h, r))"
   ]
  },
  {
   "cell_type": "markdown",
   "metadata": {},
   "source": [
    "Exercise 4.4: \n",
    "\n",
    "Rewrite the grade program from the previous chapter using a function called computegrade that takes a score as its parameter and returns a grade as a string."
   ]
  },
  {
   "cell_type": "code",
   "execution_count": null,
   "metadata": {},
   "outputs": [],
   "source": [
    "def computegrade(s) :\n",
    "    if s >= 0.0 and s <= 1.0 :\n",
    "        if s >= 0.9 :\n",
    "            score = \"A\"\n",
    "        if s >=0.8 :\n",
    "            score = \"B\"\n",
    "        if s >=0.7 :\n",
    "            score = \"C\"\n",
    "        if s >=0.6 :\n",
    "            score = \"D\"\n",
    "        else :\n",
    "            score = \"F\"\n",
    "    else:\n",
    "        score = \"out of range\"\n",
    "    return score\n",
    "\n",
    "s = float(input(\"Enter Score:\"))\n",
    "print (computegrade(s))"
   ]
  },
  {
   "cell_type": "markdown",
   "metadata": {},
   "source": [
    "### Chapter 5 - Iterations"
   ]
  },
  {
   "cell_type": "markdown",
   "metadata": {},
   "source": [
    "Exercise 5.1: \n",
    "\n",
    "Write a program which repeatedly reads numbers until the user enters \"done\". Once \"done\" is entered, print out the total, count, and average of the numbers. If the user enters anything other than a number, detect their mistake using try and except and print an error message and skip to the next number."
   ]
  },
  {
   "cell_type": "code",
   "execution_count": null,
   "metadata": {},
   "outputs": [],
   "source": [
    "count = 0\n",
    "sum = 0\n",
    "while True:\n",
    "    snum = input(\"Enter a number: \")\n",
    "    if snum == 'done':\n",
    "        break\n",
    "    try:\n",
    "        snum = float(snum)\n",
    "    except:\n",
    "        print ('Invalid Input')\n",
    "        continue\n",
    "    count = count + 1\n",
    "    sum = sum + snum\n",
    "\n",
    "print (sum, count, sum/count)"
   ]
  },
  {
   "cell_type": "markdown",
   "metadata": {},
   "source": [
    "Exercise 5.2: \n",
    "\n",
    "Write another program that prompts for a list of numbers as above and at the end prints out both the maximum and minimum of the numbers instead of the average."
   ]
  },
  {
   "cell_type": "code",
   "execution_count": 2,
   "metadata": {},
   "outputs": [
    {
     "name": "stdout",
     "output_type": "stream",
     "text": [
      "Enter a number: 3\n",
      "Enter a number: 5\n",
      "Enter a number: 6\n",
      "Enter a number: 7\n",
      "Enter a number: 1\n",
      "Enter a number: done\n",
      "Maximum is 7\n",
      "Minimum is 1\n"
     ]
    }
   ],
   "source": [
    "largest = None\n",
    "smallest = None\n",
    "while True:\n",
    "    try:\n",
    "        num = input(\"Enter a number: \")\n",
    "        if num == \"done\" : break\n",
    "        n = int(num)\n",
    "        if largest is None:\n",
    "            largest = n\n",
    "        if smallest is None:\n",
    "            smallest = n\n",
    "        if n > largest:\n",
    "            largest = n\n",
    "        if n < smallest:\n",
    "            smallest = n\n",
    "    except:\n",
    "        print('Invalid input')\n",
    "\n",
    "print(\"Maximum is\", largest)\n",
    "print(\"Minimum is\", smallest)"
   ]
  },
  {
   "cell_type": "code",
   "execution_count": null,
   "metadata": {},
   "outputs": [],
   "source": []
  }
 ],
 "metadata": {
  "kernelspec": {
   "display_name": "Python 3",
   "language": "python",
   "name": "python3"
  },
  "language_info": {
   "codemirror_mode": {
    "name": "ipython",
    "version": 3
   },
   "file_extension": ".py",
   "mimetype": "text/x-python",
   "name": "python",
   "nbconvert_exporter": "python",
   "pygments_lexer": "ipython3",
   "version": "3.6.5"
  }
 },
 "nbformat": 4,
 "nbformat_minor": 2
}
