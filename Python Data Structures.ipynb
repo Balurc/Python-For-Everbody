{
 "cells": [
  {
   "cell_type": "markdown",
   "metadata": {},
   "source": [
    "### Chapter 6 - Strings"
   ]
  },
  {
   "cell_type": "markdown",
   "metadata": {},
   "source": [
    "Exercise 6.1: Take the following Python code that stores a string:\n",
    "\n",
    "str = 'X-DSPAM-Confidence:0.8475'"
   ]
  },
  {
   "cell_type": "code",
   "execution_count": 1,
   "metadata": {},
   "outputs": [
    {
     "name": "stdout",
     "output_type": "stream",
     "text": [
      "X-DSPAM-Confidence: 0.8475\n",
      "0.8475\n",
      "<class 'float'>\n"
     ]
    }
   ],
   "source": [
    "str = 'X-DSPAM-Confidence: 0.8475'\n",
    "print(str)\n",
    "thepost = str.find(\":\")\n",
    "the_post = float(str[thepost+2:])\n",
    "print(the_post)\n",
    "print(type(the_post))"
   ]
  },
  {
   "cell_type": "markdown",
   "metadata": {},
   "source": [
    "More exercises"
   ]
  },
  {
   "cell_type": "code",
   "execution_count": 2,
   "metadata": {},
   "outputs": [
    {
     "name": "stdout",
     "output_type": "stream",
     "text": [
      "From stephen.marquard@ uct.ac.za Sat Jan 5 09:14:16 2008\n",
      "uct.ac.za\n"
     ]
    }
   ],
   "source": [
    "data = 'From stephen.marquard@ uct.ac.za Sat Jan 5 09:14:16 2008'\n",
    "print(data)\n",
    "apos = data.find(\"@\")\n",
    "bpos = data.find(\" \", apos+2)\n",
    "cword = data[apos+2:bpos]\n",
    "print(cword)"
   ]
  },
  {
   "cell_type": "code",
   "execution_count": 4,
   "metadata": {},
   "outputs": [
    {
     "name": "stdout",
     "output_type": "stream",
     "text": [
      "ananab\n"
     ]
    }
   ],
   "source": [
    "# reversing a word\n",
    "fruit = 'banana'\n",
    "index = len(fruit)-1\n",
    "while index >= 0:\n",
    "    print(fruit[index], end=\"\")\n",
    "    index -=1\n",
    "print()"
   ]
  },
  {
   "cell_type": "markdown",
   "metadata": {},
   "source": [
    "### Chapter 7 - Files"
   ]
  },
  {
   "cell_type": "markdown",
   "metadata": {},
   "source": [
    "Exercise 7.1: \n",
    "\n",
    "Write a program to read through a file and print the contents of the file (line by line) all in upper case. Executing the program will look as follows:\n",
    "    \n",
    "python shout.py\n",
    "Enter a file name: mbox-short.txt\n",
    "FROM STEPHEN.MARQUARD@UCT.AC.ZA SAT JAN  5 09:14:16 2008\n",
    "RETURN-PATH: <POSTMASTER@COLLAB.SAKAIPROJECT.ORG>\n",
    "RECEIVED: FROM MURDER (MAIL.UMICH.EDU [141.211.14.90])\n",
    "     BY FRANKENSTEIN.MAIL.UMICH.EDU (CYRUS V2.3.8) WITH LMTPA;\n",
    "     SAT, 05 JAN 2008 09:14:16 -0500"
   ]
  },
  {
   "cell_type": "code",
   "execution_count": null,
   "metadata": {},
   "outputs": [],
   "source": [
    "fname = input(\"Enter file name: \")\n",
    "fh = open(fname)\n",
    "a = fh.read()\n",
    "print(a.upper().rstrip())"
   ]
  },
  {
   "cell_type": "markdown",
   "metadata": {},
   "source": [
    "Exercise 7.2: Write a program to prompt for a file name, and then read through the file and look for lines of the form:\n",
    "        \n",
    "        X-DSPAM-Confidence: 0.8475\n",
    "            \n",
    "When you encounter a line that starts with \"X-DSPAM-Confidence:\" pull apart the line to extract the floating-point number on the line. Count these lines and then compute the total of the spam confidence values from these lines. When you reach the end of the file, print out the average spam confidence."
   ]
  },
  {
   "cell_type": "code",
   "execution_count": null,
   "metadata": {},
   "outputs": [],
   "source": [
    "fname = input('Enter the file name: ')\n",
    "try:\n",
    "    fhand = open(fname)\n",
    "except:\n",
    "    print('File can not be opened:',fname)\n",
    "    exit()\n",
    "count = 0\n",
    "sum = 0\n",
    "for line in fhand:\n",
    "    if line.startswith('X-DSPAM-Confidence: '):\n",
    "\n",
    "        spost = line.find('X-DSPAM-Confidence: ')\n",
    "        epost = line.find(':', spost)\n",
    "        rpost = float(line[epost+2:])\n",
    "        sum = sum + rpost\n",
    "        count = count + 1\n",
    "print('Average spam confidence: ', sum/count)"
   ]
  },
  {
   "cell_type": "markdown",
   "metadata": {},
   "source": [
    "### Chapter 8 - Lists"
   ]
  },
  {
   "cell_type": "markdown",
   "metadata": {},
   "source": [
    "Exercise 8.1: \n",
    "\n",
    "Download a copy of the file www.py4e.com/code3/romeo.txt. Write a program to open the file romeo.txt and read it line by line. For each line, split the line into a list of words using the split function. For each word, check to see if the word is already in a list. If the word is not in the list, add it to the list. When the program completes, sort and print the resulting words in alphabetical order."
   ]
  },
  {
   "cell_type": "code",
   "execution_count": null,
   "metadata": {},
   "outputs": [],
   "source": [
    "fhand = open('romeo.txt')\n",
    "wordlist = list() #can be changed to []\n",
    "for line in fhand: #looping throught the lines in the file\n",
    "    words = line.split() # will have 4 lists\n",
    "    for word in words: # loop through each list\n",
    "        if word not in wordlist: # if item 1 in list 1 is not in wordlist\n",
    "            wordlist.append(word) # adding unique items to list\n",
    "            wordlist.sort() #sort the list\n",
    "print(wordlist)"
   ]
  },
  {
   "cell_type": "markdown",
   "metadata": {},
   "source": [
    "Exercise 5: \n",
    "    \n",
    "Write a program to read through the mail box data and when you find line that starts with \"From\", you will split the line into words using the split function. We are interested in who sent the message, which is the second word on the From line.\n",
    "\n",
    "From stephen.marquard@uct.ac.za Sat Jan 5 09:14:16 2008\n",
    "        \n",
    "You will parse the From line and print out the second word for each From line, then you will also count the number of From (not From:) lines and print out a count at the end. This is a good sample output with a few lines removed:\n",
    "\n",
    "    \n",
    "python fromcount.py\n",
    "Enter a file name: mbox-short.txt\n",
    "stephen.marquard@uct.ac.za\n",
    "louis@media.berkeley.edu\n",
    "zqian@umich.edu\n",
    "\n",
    "[...some output removed...]\n",
    "\n",
    "ray@media.berkeley.edu\n",
    "cwen@iupui.edu\n",
    "cwen@iupui.edu\n",
    "cwen@iupui.edu\n",
    "There were 27 lines in the file with From as the first word"
   ]
  },
  {
   "cell_type": "code",
   "execution_count": null,
   "metadata": {},
   "outputs": [],
   "source": [
    "fname = input('Enter file name: ')\n",
    "fhand = open(fname)\n",
    "count = 0\n",
    "for line in fhand:\n",
    "    line = line.rstrip()\n",
    "    if not line.startswith('From '): continue\n",
    "    words = line.split()\n",
    "    count = count + 1\n",
    "    print(words[1])\n",
    "print(\"There were\", count, \"lines in the file with From as the first word\")"
   ]
  },
  {
   "cell_type": "markdown",
   "metadata": {},
   "source": [
    "Exercise 8.3: \n",
    "    \n",
    "Rewrite the program that prompts the user for a list of numbers and prints out the maximum and minimum of the numbers at the end when the user enters \"done\". Write the program to store the numbers the user enters in a list and use the max() and min() functions to compute the maximum and minimum numbers after the loop completes."
   ]
  },
  {
   "cell_type": "code",
   "execution_count": 5,
   "metadata": {},
   "outputs": [
    {
     "name": "stdout",
     "output_type": "stream",
     "text": [
      "Enter a number: 2\n",
      "Enter a number: 2\n",
      "Enter a number: 23\n",
      "Enter a number: 4\n",
      "Enter a number: 5\n",
      "Enter a number: done\n",
      "Max number:  23.0 Min number:  2.0 Your numbers:  [2.0, 2.0, 23.0, 4.0, 5.0]\n"
     ]
    }
   ],
   "source": [
    "numlist = []\n",
    "while True:\n",
    "    inp = input('Enter a number: ')\n",
    "    if inp.lower() == 'done':break\n",
    "    try:\n",
    "        num = float(inp)\n",
    "    except:\n",
    "        print('Your enter non numerics, please continue')\n",
    "        continue\n",
    "    numlist.append(num)\n",
    "print('Max number: ', max(numlist), 'Min number: ', min(numlist), 'Your numbers: ', numlist)"
   ]
  },
  {
   "cell_type": "markdown",
   "metadata": {},
   "source": [
    "### Chapter 9 - Dictionaries"
   ]
  },
  {
   "cell_type": "markdown",
   "metadata": {},
   "source": [
    "Exercise 9.1: \n",
    "    \n",
    "Write a program that categorizes each mail message by which day of the week the commit was done. To do this look for lines that start with \"From\", then look for the third word and keep a running count of each of the days of the week. At the end of the program print out the contents of your dictionary (order does not matter).\n",
    "\n",
    "Sample Line:\n",
    "    \n",
    "    From stephen.marquard@uct.ac.za Sat Jan  5 09:14:16 2008\n",
    "            \n",
    "Sample Execution:\n",
    "\n",
    "Enter a file name: mbox-short.txt\n",
    "{'Fri': 20, 'Thu': 6, 'Sat': 1}"
   ]
  },
  {
   "cell_type": "code",
   "execution_count": null,
   "metadata": {},
   "outputs": [],
   "source": [
    "fname = input('Enter file name: ')\n",
    "fhand = open(fname)\n",
    "counts = dict()\n",
    "for line in fhand:\n",
    "    line = line.rstrip()\n",
    "\n",
    "    if not line.startswith('From '): continue\n",
    "    words = line.split()\n",
    "    words2 = words[2]\n",
    "    if words2 not in counts:\n",
    "        counts[words2] = 1\n",
    "    else:\n",
    "        counts[words2] +=1\n",
    "\n",
    "for key in counts:\n",
    "    print (key, ':', counts[key])\n",
    "    print ('')"
   ]
  },
  {
   "cell_type": "markdown",
   "metadata": {},
   "source": [
    "Exercise 9.2: \n",
    "    \n",
    "Write a program to read through a mail log, build a histogram using a dictionary to count how many messages have come from each email address, and print the dictionary."
   ]
  },
  {
   "cell_type": "code",
   "execution_count": null,
   "metadata": {},
   "outputs": [],
   "source": [
    "#import string\n",
    "fname = input('Enter file name: ')\n",
    "fhand = open(fname)\n",
    "counts = dict()\n",
    "for line in fhand:\n",
    "    line = line.rstrip()\n",
    "    if not line.startswith('From '): continue\n",
    "    words = line.split()\n",
    "    words2 = words[1]\n",
    "    counts[words2] = counts.get(words2, 0) + 1 \n",
    "\n",
    "for key in counts:\n",
    "    print (key, ':', counts[key])"
   ]
  },
  {
   "cell_type": "markdown",
   "metadata": {},
   "source": [
    "Exercise 9.3: \n",
    "    \n",
    "Add code to the above program to figure out who has the most messages in the file. After all the data has been read and the dictionary has been created, look through the dictionary using a maximum loop (see Chapter 5: Maximum and minimum loops) to find who has the most messages and print how many messages the person has."
   ]
  },
  {
   "cell_type": "code",
   "execution_count": null,
   "metadata": {},
   "outputs": [],
   "source": [
    "fname = input('Enter file name: ')\n",
    "fhand = open(fname)\n",
    "counts = dict()\n",
    "for line in fhand:\n",
    "    line = line.rstrip()\n",
    "    if not line.startswith('From '): continue\n",
    "    words = line.split()\n",
    "    words2 = words[1]\n",
    "    if words2 not in counts:\n",
    "        counts[words2] = 1\n",
    "    else:\n",
    "        counts[words2] +=1\n",
    "\n",
    "\n",
    "largest = 0\n",
    "thewordl = None\n",
    "\n",
    "for key, value in counts.items():\n",
    "    if value > largest:\n",
    "        largest = value\n",
    "        thewordl = key\n",
    "\n",
    "print(\"Most messages : \", thewordl, largest)"
   ]
  },
  {
   "cell_type": "markdown",
   "metadata": {},
   "source": [
    "Exercise 9.4:\n",
    "\n",
    "This program records the domain name (instead of the address) where the message was sent from instead of who the mail came from (i.e., the whole email address). At the end of the program, print out the contents of your dictionary."
   ]
  },
  {
   "cell_type": "code",
   "execution_count": null,
   "metadata": {},
   "outputs": [],
   "source": [
    "fname = input('Enter file name: ')\n",
    "fhand = open(fname)\n",
    "counts = dict()\n",
    "for line in fhand:\n",
    "    line = line.rstrip()\n",
    "    if not line.startswith('From '): continue\n",
    "    spost = line.find('@')\n",
    "    epost = line.find(' ', spost)\n",
    "    host = line[spost+1:epost]\n",
    "    if host not in counts:\n",
    "        counts[host] = 1\n",
    "    else:\n",
    "        counts[host] += 1\n",
    "\n",
    "lst = list(counts.keys())\n",
    "lst.sort()\n",
    "for key in lst:\n",
    "    print(key, ':', counts[key])"
   ]
  },
  {
   "cell_type": "markdown",
   "metadata": {},
   "source": [
    "### Chapter 10 - Tuples"
   ]
  },
  {
   "cell_type": "markdown",
   "metadata": {},
   "source": [
    "Exercise 10.1: \n",
    "    \n",
    "This program counts the distribution of the hour of the day for each of the messages. You can pull the hour from the \"From\" line by finding the time string and then splitting that string into parts using the colon character. Once you have accumulated the counts for each hour, print out the counts, one per line, sorted by hour as shown below."
   ]
  },
  {
   "cell_type": "code",
   "execution_count": null,
   "metadata": {},
   "outputs": [],
   "source": [
    "name = input(\"Enter file:\")\n",
    "if len(name) < 1 : name = \"mbox-short.txt\"\n",
    "handle = open(name)\n",
    "\n",
    "hourdict = dict()\n",
    "\n",
    "for line in handle:\n",
    "    if(line.startswith('From:')): continue\n",
    "    elif(line.startswith('From')):\n",
    "        mylst = line.split()\n",
    "        timestamp = mylst[5]\n",
    "        hour = timestamp.split(':')[0]\n",
    "        hourdict[hour] = hourdict.get(hour, 0) + 1\n",
    "\n",
    "for hr, occurance in sorted(hourdict.items()):       \n",
    "    print(hr, occurance)"
   ]
  }
 ],
 "metadata": {
  "kernelspec": {
   "display_name": "Python 3",
   "language": "python",
   "name": "python3"
  },
  "language_info": {
   "codemirror_mode": {
    "name": "ipython",
    "version": 3
   },
   "file_extension": ".py",
   "mimetype": "text/x-python",
   "name": "python",
   "nbconvert_exporter": "python",
   "pygments_lexer": "ipython3",
   "version": "3.6.5"
  }
 },
 "nbformat": 4,
 "nbformat_minor": 2
}
